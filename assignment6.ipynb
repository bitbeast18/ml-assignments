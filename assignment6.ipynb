{
 "cells": [
  {
   "cell_type": "markdown",
   "metadata": {},
   "source": [
    "# Assignment 6: Bagging and Boosting\n",
    "\n",
    "Only use the already imported library `numpy`, `matplotlib` and the Python standard library. For the evaluation you may also use scikit-learn (`sklearn`). Make sure that the dataset `titanic.csv` is in the same directory as the notebook.\n",
    "\n",
    "List your team members (name and immatriculation number) and indicate whether you are a B.Sc. Data Science or other group in the following cell:"
   ]
  },
  {
   "cell_type": "markdown",
   "metadata": {},
   "source": [
    "| Name                        | Matr. Nr.    | Study Program                     |\n",
    "| ---                         | ---          | ---                               |\n",
    "| Dao Khanh Duy               | 3591406      | INFOTECH M.Sc.                    |\n",
    "| Harshal Sanjay Nandigramwar | 3575008      | INFOTECH M.Sc.                    |\n",
    "| Xiwen Feng                  | 3219649      | Natural Language Processing B.Sc. |"
   ]
  },
  {
   "cell_type": "code",
   "execution_count": 1,
   "metadata": {},
   "outputs": [],
   "source": [
    "# You are allowed to use the numpy package and the DecisionTreeClassifier.\n",
    "import matplotlib.pyplot as plt\n",
    "import numpy as np\n",
    "from sklearn.tree import DecisionTreeClassifier\n",
    "\n",
    "import pandas as pd\n",
    "from sklearn.model_selection import train_test_split\n",
    "\n",
    "\n",
    "def load_dataset(path):\n",
    "\n",
    "    df = pd.read_csv('titanic.csv')\n",
    "    # The feature engineering mostly follows the notebook by Manav Segal: https://www.kaggle.com/startupsci/titanic-data-science-solutions\n",
    "    # From the Name attribute we can extract titles, which gives insight about the social status/age/gender of the passenger.\n",
    "    df['Title'] = df['Name'].str.extract(' ([a-zA-Z]+)\\.', expand=False)\n",
    "    df['Title'] = df['Title'].replace(['Lady', 'Countess', 'Capt', 'Col', 'Don', 'Dr', 'Major', 'Rev', 'Sir', 'Jonkheer', 'Dona'], 'Rare')\n",
    "    df['Title'] = df['Title'].replace(['Mlle', 'Ms'], 'Miss')\n",
    "    df['Title'] = df['Title'].replace('Mme', 'Mrs')\n",
    "    # We map the Title attribute to a one-hot encoding.\n",
    "    df = df.join(pd.get_dummies(df['Title'], prefix='Title'))\n",
    "\n",
    "    \n",
    "    # We map the Sex attribute to a numeric representation.\n",
    "    df['Sex'] = df['Sex'].map({'female': 1, 'male': 0}).astype(int)\n",
    "\n",
    "    \n",
    "    # We one-hot encode Pclass.\n",
    "    df = df.join(pd.get_dummies(df['Pclass'], prefix='Pclass'))\n",
    "\n",
    "    \n",
    "    # Based on the number of sibling-spouses in SibSp and parents-childern in Parch, \n",
    "    # we can determine whether a passenger was on board alone.\n",
    "    df['IsAlone'] = ((df['SibSp'] + df['Parch'] + 1) == 1).astype(int)\n",
    "\n",
    "    \n",
    "    # We remove all attributes that do not seem relevant to the prediction, or are already encoded in another attribute.\n",
    "    df = df.drop(['PassengerId', 'Name', 'Title', 'Ticket', 'Cabin', 'Parch', 'SibSp'], axis=1)\n",
    "\n",
    "    \n",
    "    # For remaining features, we have to separate train and test, \n",
    "    # as we will impute missing data based on statistics in the training data.\n",
    "    df_train, df_test = train_test_split(df, test_size=0.2, random_state=2020)\n",
    "    # For Embarked, we set all missing values to the most frequent port and then one-hot encode the attribute.\n",
    "    def impute_embarked():    \n",
    "        freq_port = df_train['Embarked'].dropna().mode()[0]\n",
    "        output = []\n",
    "        for df in (df_train, df_test):\n",
    "            df = df.join(pd.get_dummies(df['Embarked'].fillna(freq_port), prefix='Embarked'))\n",
    "            df = df.drop('Embarked', axis=1)\n",
    "            output.append(df)\n",
    "        return output\n",
    "\n",
    "    df_train, df_test = impute_embarked()\n",
    "\n",
    "    # For Age, we set missing values to the median dependent on the pair of Sex and Pclass.\n",
    "    guess_ages = np.zeros((2, 3))\n",
    "    for df in (df_train, df_test):\n",
    "        for i in range(2):\n",
    "            for j in range(3):\n",
    "                guess_ages[i, j] = df[(df['Sex'] == i) & (df['Pclass'] == j+1)]['Age'].dropna().median()\n",
    "        for i in range(2):\n",
    "            for j in range(3):\n",
    "                df.loc[(df['Age'].isnull()) & (df['Sex'] == i) & (df['Pclass'] == j+1), 'Age'] = guess_ages[i, j]\n",
    "        df['Age'] = df['Age'].astype(int)\n",
    "\n",
    "    df_train = df_train.drop(['Pclass'], axis=1)\n",
    "    df_test = df_test.drop(['Pclass'], axis=1)\n",
    "\n",
    "    X_train = df_train.values[:, 1:]\n",
    "    X_test = df_test.values[:, 1:]\n",
    "    y_train = df_train.values[:, 0]\n",
    "    y_test = df_test.values[:, 0]\n",
    "    \n",
    "    return X_train, X_test, y_train, y_test\n",
    "    \n",
    "X_train, X_test, y_train, y_test = load_dataset('titanic.csv')"
   ]
  },
  {
   "cell_type": "markdown",
   "metadata": {},
   "source": [
    "The Titanic dataset and a description can be found at [Kaggle](https://www.kaggle.com/c/titanic/data). The feature engineering mostly follows the work by [Manav Segal](https://www.kaggle.com/startupsci/titanic-data-science-solutions). \n",
    "\n",
    "The prepared dataset contains the following attributes:\n",
    "- Sex: binary (0 = Male, 1 = Female)\n",
    "- Age: integer\n",
    "- Fare: float\n",
    "- Title_{Master, Miss, Mr, Mrs, Rare}: title of passenger (extracted from name), binary, one-hot encoding of categorical variable Title\n",
    "- Pclass_{1, 2, 3}: ticket class corresponds to socio-economic status (1 = upper class, 2 = middle class, 3 = lower class), binary, one-hot encoding of categorical variable Pclass\n",
    "- IsAlone: whether the passenger has no siblings/spouses/parents/children on board, binary\n",
    "- Embarked_{C, Q, S}: port at which passenger embarked (C = Cherbourg, Q = Queenstown, S = Southampton), binary, one-hot encoding of categorical variable Embarked\n",
    "\n",
    "The classification target is:\n",
    "- Survived: binary\n",
    "\n",
    "Data is split into train-test with a 80-20 ratio yielding 712 training and 179 test samples. Train and test data is stored in the variables `(X_train, y_train)` and `(X_test, y_test)` respectively."
   ]
  },
  {
   "cell_type": "markdown",
   "metadata": {},
   "source": [
    "## Task 1: Random Forest \n",
    "\n",
    "In this task, you will implement a random forest classifier using the scikit-learn implementation of the decision tree. \n",
    "\n",
    "Use bootstrap sampling and sample 20% of the original data set for each tree. Randomly select 6 attributes/columns for each trained tree. The prediction of each tree should be weighted equally in the majority vote. Use the already imported class `DecisionTreeClassifier` for your decision trees. You can find the decision tree documentation [here](https://scikit-learn.org/stable/modules/generated/sklearn.tree.DecisionTreeClassifier.html). You may use either the default parameters or experiment with different settings.\n",
    "\n",
    "You will evaluate your model on the test data using scikit-learn with the methods shown in the lecture ([precision, recall, F1-score](https://scikit-learn.org/stable/modules/generated/sklearn.metrics.precision_recall_fscore_support.html#sklearn.metrics.precision_recall_fscore_support), [confusion matrices](https://scikit-learn.org/stable/modules/generated/sklearn.metrics.confusion_matrix.html?highlight=confusion%20matrix#sklearn.metrics.confusion_matrix), ...). Try out different number of trees and compare the performance w.r.t. this parameter. Feel free to import any functions you need from scikit-learn for this purpose. \n"
   ]
  },
  {
   "cell_type": "code",
   "execution_count": 2,
   "metadata": {},
   "outputs": [],
   "source": [
    "class RandomForestClassifier(object):\n",
    "    def __init__(self, number_of_trees):\n",
    "        self.number_of_trees = number_of_trees\n",
    "        self.trees = [DecisionTreeClassifier() for _ in range(number_of_trees)]\n",
    "        self.feature_map = dict() # maps tree to the features it takes.\n",
    "\n",
    "        self.num_classes = None\n",
    "        \n",
    "    def fit(self, X, y):\n",
    "        self.num_classes = len(np.unique(y))\n",
    "\n",
    "        num_samples = int(0.2 * X.shape[0])\n",
    "        num_features = 6\n",
    "\n",
    "        for idx, tree in enumerate(self.trees):\n",
    "            random_features = np.random.randint(0, X.shape[-1], size=num_features)\n",
    "            random_samples = np.random.randint(0, X.shape[0], size=num_samples)\n",
    "            self.feature_map[idx] = random_features\n",
    "\n",
    "            tree.fit(X[random_samples, :][:, random_features], y[random_samples])\n",
    "    \n",
    "    def predict(self, X):\n",
    "        counts = np.zeros(shape=(X.shape[0], self.num_classes))\n",
    "\n",
    "        for idx, tree in enumerate(self.trees):\n",
    "            p = tree.predict(X[:, self.feature_map[idx]])\n",
    "            for sample, p_class in enumerate(p):\n",
    "                counts[sample, int(p_class)] += 1\n",
    "        return np.argmax(counts, axis=1)\n"
   ]
  },
  {
   "cell_type": "code",
   "execution_count": 3,
   "metadata": {},
   "outputs": [
    {
     "name": "stdout",
     "output_type": "stream",
     "text": [
      "Precision: [0.72794118 0.86046512]\n",
      "Recall: [0.94285714 0.5       ]\n",
      "FScore: [0.82157676 0.63247863]\n",
      "Support: [105  74]\n"
     ]
    },
    {
     "data": {
      "image/png": "[encoded data removed]",
      "text/plain": [
       "<Figure size 432x288 with 2 Axes>"
      ]
     },
     "metadata": {
      "needs_background": "light"
     },
     "output_type": "display_data"
    }
   ],
   "source": [
    "import matplotlib.pyplot as plt\n",
    "from sklearn.metrics import precision_recall_fscore_support, ConfusionMatrixDisplay\n",
    "\n",
    "# 100 trees work better. 1000 is worse.\n",
    "cus_forest = RandomForestClassifier(100)\n",
    "cus_forest.fit(X_train, y_train)\n",
    "\n",
    "y_pred = cus_forest.predict(X_test)\n",
    "\n",
    "prec, rec, f1, sup = precision_recall_fscore_support(y_test, y_pred)\n",
    "cd = ConfusionMatrixDisplay.from_predictions(y_test, y_pred)\n",
    "\n",
    "print(f'Precision: {prec}\\nRecall: {rec}\\nFScore: {f1}\\nSupport: {sup}')"
   ]
  },
  {
   "cell_type": "markdown",
   "metadata": {},
   "source": [
    "## Task 2: Interpreting Random Forests\n",
    "\n",
    "Implement the mean decrease of accuracy for the [sklearn.ensemble.RandomForestClassifier](https://scikit-learn.org/stable/modules/generated/sklearn.ensemble.RandomForestClassifier.html) `forest` to analyse learned attribute importances. Use the test set `X_test` and `y_test` as out-of-bag-samples. Permute the values of the assessed attribute by randomly shuffling the corresponding column. Plot the results to compare the importance of each feature. Discuss your results (are any importance values surprising, do the results make sense in the context of the task, ...).\n",
    "\n",
    "Note: We have already trained the classifier and stored it in the variable `forest`. You only need to implement MDA and the plots for your results."
   ]
  },
  {
   "cell_type": "code",
   "execution_count": 4,
   "metadata": {},
   "outputs": [
    {
     "name": "stdout",
     "output_type": "stream",
     "text": [
      "Precision: [0.75630252 0.75      ]\n",
      "Recall: [0.85714286 0.60810811]\n",
      "F1-score: [0.80357143 0.67164179]\n"
     ]
    }
   ],
   "source": [
    "def create_forest():\n",
    "    import sklearn.ensemble\n",
    "    import sklearn.metrics\n",
    "    forest = sklearn.ensemble.RandomForestClassifier(8)\n",
    "    forest.fit(X_train, y_train)\n",
    "    prec, rec, f1, _ = sklearn.metrics.precision_recall_fscore_support(y_test, forest.predict(X_test))\n",
    "    print('Precision:', prec)\n",
    "    print('Recall:', rec)\n",
    "    print('F1-score:', f1)\n",
    "    return forest\n",
    "\n",
    "forest = create_forest()"
   ]
  },
  {
   "cell_type": "code",
   "execution_count": 5,
   "metadata": {},
   "outputs": [
    {
     "data": {
      "text/plain": [
       "array([ 0.03910615, -0.02793296,  0.05027933,  0.00558659,  0.01117318,\n",
       "        0.09497207,  0.00558659, -0.01117318, -0.00558659, -0.01117318,\n",
       "        0.02234637, -0.02234637, -0.00558659, -0.01675978, -0.01117318])"
      ]
     },
     "execution_count": 5,
     "metadata": {},
     "output_type": "execute_result"
    }
   ],
   "source": [
    "# Implement your solution here.\n",
    "from sklearn.metrics import accuracy_score\n",
    "\n",
    "def feature_importance(X, y, clf):\n",
    "    '''Given classifier and test set, generates relative importance of each feature.\n",
    "    '''\n",
    "\n",
    "    y_pred = clf.predict(X)\n",
    "    base_acc = accuracy_score(y, y_pred)\n",
    "\n",
    "    importance_scores = np.zeros(shape=X.shape[-1])\n",
    "\n",
    "    for feature_idx in range(X.shape[-1]):\n",
    "        noise = np.zeros_like(X)\n",
    "        noise[:, feature_idx] += np.random.normal(0., 1., size=X.shape[0]) * 100\n",
    "        X_noised = X + noise\n",
    "\n",
    "        y_pred = clf.predict(X_noised)\n",
    "        acc = accuracy_score(y, y_pred)\n",
    "        importance_scores[feature_idx] = base_acc - acc\n",
    "\n",
    "    return importance_scores\n",
    "\n",
    "feature_importance(X_test, y_test, forest)"
   ]
  },
  {
   "cell_type": "markdown",
   "metadata": {},
   "source": [
    "* Sex has the most importance. "
   ]
  },
  {
   "cell_type": "markdown",
   "metadata": {},
   "source": [
    "## Task 3: Discrete AdaBoost with Decision Stumps - For all students other than B.Sc. Data Science \n",
    "\n",
    "In this task, you will implement the discrete AdaBoost algorithm using decision stumps as weak learners. Your training will run until either `n_learners` weak learners have been added or a perfect accuracy on the training data set is achieved. Use the function `initialize_decision_stumps` to create decision stumps, which you can train on your weighted data using `fit` and predict using `predict`. The decision stumps are instances of the class [sklearn.tree.DecisionTreeClassifier](https://scikit-learn.org/stable/modules/generated/sklearn.tree.DecisionTreeClassifier.html).\n",
    "\n",
    "In addition, you will evaluate your model on the test data (`X_test`, `y_test`) using scikit-learn with the methods shown in the lecture (precision, recall, F1-score, confusion matrices, ...). Feel free to import any functions you need from scikit-learn for this purpose."
   ]
  },
  {
   "cell_type": "code",
   "execution_count": 26,
   "metadata": {},
   "outputs": [],
   "source": [
    "def initialize_decision_stump():\n",
    "    stump = DecisionTreeClassifier(criterion='entropy', max_depth=1)\n",
    "    return stump\n",
    "\n",
    "\n",
    "class AdaBoostClassifier(object):\n",
    "    def __init__(self, n_learners):\n",
    "        self.n_learners = n_learners\n",
    "        self.trees = []\n",
    "        self.log_odds = []\n",
    "        self.weights = None\n",
    "    \n",
    "    def fit(self, X, y):\n",
    "\n",
    "        if self.weights is None:\n",
    "            self.weights = np.zeros(shape=X.shape[0], dtype=np.float32) + (1. / X.shape[0])\n",
    "        \n",
    "        learners, acc = 0, 0.\n",
    "        \n",
    "        while learners < self.n_learners and acc < 1.0:\n",
    "\n",
    "            sample_size = int(0.2 * X.shape[0])\n",
    "            sample_idx = np.random.randint(0, X.shape[0], size=sample_size)\n",
    "            random_X = X[sample_idx]\n",
    "            random_y = y[sample_idx]\n",
    "\n",
    "            tree = initialize_decision_stump()\n",
    "            self.trees.append(tree)\n",
    "            tree.fit(random_X, random_y)\n",
    "            learners += 1\n",
    "\n",
    "            y_pred = tree.predict(X)\n",
    "            acc = accuracy_score(y, y_pred)\n",
    "\n",
    "            error = (self.weights * (y_pred == y)).sum() / self.weights.sum()\n",
    "\n",
    "            log_odd = np.log((1 - error) / error)\n",
    "            self.log_odds.append(log_odd)\n",
    "\n",
    "            self.weights = self.weights * np.exp(log_odd * (y_pred == y))\n",
    "            self.weights = self.weights / self.weights.sum() # normalized weights\n",
    "\n",
    "    \n",
    "    def predict(self, X):\n",
    "        predictions = np.zeros(shape=X.shape[0])\n",
    "        for idx, tree in enumerate(self.trees):\n",
    "            y_pred = tree.predict(X)\n",
    "            predictions += self.log_odds[idx] * y_pred\n",
    "\n",
    "        return np.sign(predictions) >= 0\n",
    "\n"
   ]
  },
  {
   "cell_type": "code",
   "execution_count": 28,
   "metadata": {},
   "outputs": [
    {
     "name": "stdout",
     "output_type": "stream",
     "text": [
      "Precision: [0.46666667 0.16949153]\n",
      "Recall: [0.53333333 0.13513514]\n",
      "FScore: [0.49777778 0.15037594]\n",
      "Support: [105  74]\n"
     ]
    },
    {
     "data": {
      "image/png": "[encoded data removed]",
      "text/plain": [
       "<Figure size 432x288 with 2 Axes>"
      ]
     },
     "metadata": {
      "needs_background": "light"
     },
     "output_type": "display_data"
    }
   ],
   "source": [
    "# Implement your training and evaluation here. You may reuse the code from Task 1.\n",
    "\n",
    "ada_clf = AdaBoostClassifier(100)\n",
    "ada_clf.fit(X_train, y_train)\n",
    "\n",
    "y_preds = ada_clf.predict(X_test)\n",
    "prec, rec, f1, sup = precision_recall_fscore_support(y_test, y_preds)\n",
    "cd = ConfusionMatrixDisplay.from_predictions(y_test, y_preds)\n",
    "\n",
    "print(f'Precision: {prec}\\nRecall: {rec}\\nFScore: {f1}\\nSupport: {sup}')"
   ]
  },
  {
   "cell_type": "code",
   "execution_count": null,
   "metadata": {},
   "outputs": [],
   "source": []
  },
  {
   "cell_type": "code",
   "execution_count": null,
   "metadata": {},
   "outputs": [],
   "source": []
  }
 ],
 "metadata": {
  "kernelspec": {
   "display_name": "Python 3.9.12 ('ml')",
   "language": "python",
   "name": "python3"
  },
  "language_info": {
   "codemirror_mode": {
    "name": "ipython",
    "version": 3
   },
   "file_extension": ".py",
   "mimetype": "text/x-python",
   "name": "python",
   "nbconvert_exporter": "python",
   "pygments_lexer": "ipython3",
   "version": "3.9.12"
  },
  "vscode": {
   "interpreter": {
    "hash": "99c647157295a3fd9bc2246ef38bea300d0f89364b8176408f58ca9cea183f22"
   }
  }
 },
 "nbformat": 4,
 "nbformat_minor": 1
}
