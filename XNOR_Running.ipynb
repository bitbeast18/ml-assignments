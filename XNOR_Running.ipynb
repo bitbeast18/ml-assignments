{
 "cells": [
  {
   "cell_type": "markdown",
   "id": "eb43ec0d",
   "metadata": {},
   "source": [
    "# Assignment 7: Perceptron (Task 3)"
   ]
  },
  {
   "cell_type": "markdown",
   "id": "074f2fda",
   "metadata": {},
   "source": [
    "For this assignment, you may `numpy`, `pandas`, and packages from the Python standard library.\n",
    "\n",
    "List your team members (name, matriculation number, course of study) in the following cell:"
   ]
  },
  {
   "cell_type": "markdown",
   "id": "071a0148",
   "metadata": {},
   "source": [
    "| Name | Matr. Nr. | Study Program |\n",
    "| ---  | ---       | ---           |\n",
    "| Dao Khanh Duy | 3591406 | INFOTECH M.Sc. |\n",
    "| Harshal Sanjay Nandigramwar | 3575008 | INFOTECH M.Sc. |\n",
    "| Xiwen Feng | 3219649 | Natural Language Processing B.Sc. |"
   ]
  },
  {
   "cell_type": "markdown",
   "id": "dd7ac3b2",
   "metadata": {},
   "source": [
    "In this task, you will implement the algorithm of perceptron learning on XNOR dataset. "
   ]
  },
  {
   "cell_type": "code",
   "execution_count": 1,
   "id": "5c2f2944",
   "metadata": {},
   "outputs": [],
   "source": [
    "import numpy as np\n",
    "import scipy.optimize\n",
    "from matplotlib import pyplot as plt"
   ]
  },
  {
   "cell_type": "markdown",
   "id": "d6dc5135",
   "metadata": {},
   "source": [
    "The XNOR dataset is generated as follows:"
   ]
  },
  {
   "cell_type": "code",
   "execution_count": 2,
   "id": "31c7ceb3",
   "metadata": {},
   "outputs": [],
   "source": [
    "Data = np.array([[0,0,1], [0,1,1], [1,0,1], [1,1,1]])\n",
    "X = np.array([[0,0], [0,1], [1,0], [1,1]])\n",
    "y = np.array([-1, 1,1, -1])"
   ]
  },
  {
   "cell_type": "markdown",
   "id": "efec64a7",
   "metadata": {},
   "source": [
    "The weights and bias are initialized as follows"
   ]
  },
  {
   "cell_type": "code",
   "execution_count": 3,
   "id": "043df8dd",
   "metadata": {},
   "outputs": [],
   "source": [
    "w = np.array([1.1, 1.0, 1.5])"
   ]
  },
  {
   "cell_type": "markdown",
   "id": "52fe720f",
   "metadata": {},
   "source": [
    "Set max iteration Max_Ite to 10, 100 and 1000 and run the code for each of them separately, and Report the accuracy."
   ]
  },
  {
   "cell_type": "markdown",
   "id": "a2223ddd",
   "metadata": {},
   "source": [
    "Implement the perceptron learning algorithm in the following function."
   ]
  },
  {
   "cell_type": "code",
   "execution_count": 4,
   "id": "e9b25367",
   "metadata": {},
   "outputs": [],
   "source": [
    "class Perceptron:\n",
    "    def __init__(self, weights, lr=0.1, iterations=10):\n",
    "        self.lr = lr\n",
    "        self.iterations = iterations\n",
    "        self.weights = weights\n",
    "\n",
    "    def fit(self, X, y):\n",
    "        # To make up for the bias term.\n",
    "        X = np.hstack((np.ones(shape=(X.shape[0], 1)), X)).astype(np.int32)\n",
    "\n",
    "        for _ in range(self.iterations):\n",
    "            for sample in X:\n",
    "                y_pred = self._activation(np.dot(self.weights, sample.T))\n",
    "                self.weights -= self.lr * (sample * np.sign(y_pred))\n",
    "            \n",
    "    def predict(self, X):\n",
    "        X = np.hstack((np.ones(shape=(X.shape[0], 1)), X)).astype(np.int32)\n",
    "        y_predicted = self._activation(np.dot(self.weights, X.T))\n",
    "        return y_predicted\n",
    "\n",
    "    def _activation(self, x):\n",
    "        return np.where(x>=0, 1, -1)\n",
    "    "
   ]
  },
  {
   "cell_type": "code",
   "execution_count": 5,
   "id": "b7108b5c",
   "metadata": {},
   "outputs": [],
   "source": [
    "def accuracy_score(y_true, y_pred):\n",
    "    return np.sum(y_true == y_pred) / len(y_true)"
   ]
  },
  {
   "cell_type": "code",
   "execution_count": 6,
   "id": "e2d9043e",
   "metadata": {},
   "outputs": [
    {
     "name": "stdout",
     "output_type": "stream",
     "text": [
      "Accuracy with 10 iterations: 0.5\n",
      "Accuracy with 100 iterations: 0.5\n",
      "Accuracy with 1000 iterations: 0.5\n"
     ]
    }
   ],
   "source": [
    "iteration_values = [10, 100, 1000]\n",
    "\n",
    "for iterations in iteration_values:\n",
    "    model = Perceptron(w.copy(), iterations=iterations)\n",
    "    model.fit(X, y)\n",
    "    y_pred = model.predict(X)\n",
    "\n",
    "    acc = accuracy_score(y, y_pred)\n",
    "\n",
    "    print(f'Accuracy with {iterations} iterations: {acc}')"
   ]
  },
  {
   "cell_type": "markdown",
   "id": "3a3ea830",
   "metadata": {},
   "source": [
    "##### Observations\n",
    "\n",
    "* In all cases, we don't get better than 50% accuracy.\n",
    "* This makes sense because learning either positive or negative slope, we can correctly predict only half of the samples."
   ]
  }
 ],
 "metadata": {
  "kernelspec": {
   "display_name": "Python 3.9.12 ('ml')",
   "language": "python",
   "name": "python3"
  },
  "language_info": {
   "codemirror_mode": {
    "name": "ipython",
    "version": 3
   },
   "file_extension": ".py",
   "mimetype": "text/x-python",
   "name": "python",
   "nbconvert_exporter": "python",
   "pygments_lexer": "ipython3",
   "version": "3.9.12"
  },
  "vscode": {
   "interpreter": {
    "hash": "99c647157295a3fd9bc2246ef38bea300d0f89364b8176408f58ca9cea183f22"
   }
  }
 },
 "nbformat": 4,
 "nbformat_minor": 5
}
