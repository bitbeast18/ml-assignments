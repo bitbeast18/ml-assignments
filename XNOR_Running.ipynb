{
 "cells": [
  {
   "cell_type": "markdown",
   "id": "eb43ec0d",
   "metadata": {},
   "source": [
    "# Assignment 7: Perceptron (Task 3)"
   ]
  },
  {
   "cell_type": "markdown",
   "id": "074f2fda",
   "metadata": {},
   "source": [
    "For this assignment, you may `numpy`, `pandas`, and packages from the Python standard library.\n",
    "\n",
    "List your team members (name, matriculation number, course of study) in the following cell:"
   ]
  },
  {
   "cell_type": "markdown",
   "id": "071a0148",
   "metadata": {},
   "source": [
    "* Your names here"
   ]
  },
  {
   "cell_type": "markdown",
   "id": "dd7ac3b2",
   "metadata": {},
   "source": [
    "In this task, you will implement the algorithm of perceptron learning on XNOR dataset. "
   ]
  },
  {
   "cell_type": "code",
   "execution_count": 8,
   "id": "5c2f2944",
   "metadata": {},
   "outputs": [],
   "source": [
    "import numpy as np\n",
    "import scipy.optimize\n",
    "from matplotlib import pyplot as plt"
   ]
  },
  {
   "cell_type": "markdown",
   "id": "d6dc5135",
   "metadata": {},
   "source": [
    "The XNOR dataset is generated as follows:"
   ]
  },
  {
   "cell_type": "code",
   "execution_count": 9,
   "id": "31c7ceb3",
   "metadata": {},
   "outputs": [],
   "source": [
    "Data_ = np.array([[0,0], [0,1], [1,0], [1,1]])\n",
    "Data = np.array([[0,0,1], [0,1,1], [1,0,1], [1,1,1]])\n",
    "Label = np.array([-1, 1,1, -1])\n"
   ]
  },
  {
   "cell_type": "markdown",
   "id": "efec64a7",
   "metadata": {},
   "source": [
    "The weights and bias are initialized as follows"
   ]
  },
  {
   "cell_type": "code",
   "execution_count": 10,
   "id": "043df8dd",
   "metadata": {},
   "outputs": [],
   "source": [
    "w = np.array([1.1,1.0,1.5]) "
   ]
  },
  {
   "cell_type": "markdown",
   "id": "52fe720f",
   "metadata": {},
   "source": [
    "Set max iteration Max_Ite to 10, 100 and 1000 and run the code for each of them separately, and Report the accuracy."
   ]
  },
  {
   "cell_type": "markdown",
   "id": "a2223ddd",
   "metadata": {},
   "source": [
    "Implement the perceptron learning algorithm in the following function."
   ]
  },
  {
   "cell_type": "code",
   "execution_count": 85,
   "id": "e9b25367",
   "metadata": {},
   "outputs": [
    {
     "name": "stdout",
     "output_type": "stream",
     "text": [
      "[-2.24  0.88  0.46]\n",
      "Accuracy:  50.0 %\n"
     ]
    }
   ],
   "source": [
    "class Perceptron:\n",
    "\n",
    "    def __init__(self, learning_rate=1, Max_iter=10):\n",
    "        self.lr = learning_rate\n",
    "        self.Max_iter = Max_iter\n",
    "        self.activation_func = self._unit_step_func\n",
    "        self.weights = None\n",
    "        self.bias = None\n",
    "\n",
    "    def fit(self, X, y, w):\n",
    "        self.weights = w\n",
    "        self.bias = 0\n",
    "\n",
    "        y_ = np.array([1 if i > 0 else 0 for i in y])\n",
    "\n",
    "        for _ in range(self.Max_iter):\n",
    "            \n",
    "            for idx, x_i in enumerate(X):\n",
    "\n",
    "                linear_output = np.dot(x_i, self.weights) + self.bias   # find activation output\n",
    "                y_predicted = self.activation_func(linear_output)   # predict \n",
    "                \n",
    "                # Perceptron update rule\n",
    "                update = self.lr * (y_[idx] - y_predicted)\n",
    "\n",
    "                self.weights += update * x_i\n",
    "                self.bias += update\n",
    "\n",
    "    def predict(self, X):\n",
    "        print(self.weights)\n",
    "        linear_output = np.dot(X, self.weights) + self.bias\n",
    "        #linear_output = self.weights.T*X + self.bias\n",
    "        y_predicted = self.activation_func(linear_output)\n",
    "        return y_predicted\n",
    "\n",
    "    def _unit_step_func(self, x):\n",
    "        return np.where(x>=0, 1, -1) # 1 if x>=0 else -1\n",
    "    \n",
    "def accuracy_score(Y_pred, Y):\n",
    "  miss = 0\n",
    "  for i in range(len(Y)):\n",
    "    if Y_pred[i] != Y[i]:\n",
    "      miss+=1\n",
    "  accuracy=(len(Y)-miss)*100/len(Y)\n",
    "  return accuracy\n",
    "\n",
    "\n",
    "perc=Perceptron()\n",
    "perc.fit(Data, Label, w)\n",
    "Y_pred= perc.predict(Data)\n",
    "print('Accuracy: ',accuracy_score(Y_pred, Label),'%')\n"
   ]
  }
 ],
 "metadata": {
  "kernelspec": {
   "display_name": "Python 3 (ipykernel)",
   "language": "python",
   "name": "python3"
  },
  "language_info": {
   "codemirror_mode": {
    "name": "ipython",
    "version": 3
   },
   "file_extension": ".py",
   "mimetype": "text/x-python",
   "name": "python",
   "nbconvert_exporter": "python",
   "pygments_lexer": "ipython3",
   "version": "3.7.0"
  }
 },
 "nbformat": 4,
 "nbformat_minor": 5
}
